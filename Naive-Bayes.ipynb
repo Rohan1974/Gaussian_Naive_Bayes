{
 "cells": [
  {
   "cell_type": "markdown",
   "id": "6636afba",
   "metadata": {},
   "source": [
    "**Title**: Predictive Modeling for Specialist Treatment Need in Students\n",
    "\n",
    "**Objective:**\n",
    "The primary goal of this project is to develop a predictive model to assess, whether students may require specialist treatment.\n",
    "\n",
    "\n",
    "**Dataset:**\n",
    "The dataset utilized in this project comprises student information including,\n",
    "\n",
    "timestamp, gender, age, course, current year of study, CGPA, \n",
    "marital status, depression, anxiety, and panic attacks.\n",
    "\n",
    "**Data Preprocessing:**\n",
    "use libraries such as NumPy and Pandas for cleaning and organizing the data. \n",
    "\n",
    "**Data Visualization:**\n",
    "Matplotlib and Seaborn libraries are used for data visualization.\n",
    "\n",
    "\n",
    "**Machine Learning Algorithm:**\n",
    "The chosen machine learning algorithm for this predictive model is Gaussian Naive Bayes. \n",
    "\n",
    "**Training and Testing:**\n",
    "The dataset is split into training and testing sets using the train-test split method. \n",
    "\n",
    "\n",
    "**Accuracy Metrics:**\n",
    "Accuracy_score and Confusion Matrix are employed as the accuracy check metrics. \n",
    "\n",
    "**Model Saving and Deployment:**\n",
    "Upon successful training, the Gaussian Naive Bayes model is saved for future use of prediction of new incoming data. \n",
    "\n",
    "**conclusion: This project demonstrates a systematic approach to predicting the need for specialist treatment in students using a machine learning algorithm.**"
   ]
  },
  {
   "cell_type": "code",
   "execution_count": 1,
   "id": "e3f8b834",
   "metadata": {},
   "outputs": [
    {
     "name": "stderr",
     "output_type": "stream",
     "text": [
      "C:\\Users\\Rohan\\anaconda3\\lib\\site-packages\\numpy\\_distributor_init.py:30: UserWarning: loaded more than 1 DLL from .libs:\n",
      "C:\\Users\\Rohan\\anaconda3\\lib\\site-packages\\numpy\\.libs\\libopenblas64__v0.3.21-gcc_10_3_0.dll\n",
      "C:\\Users\\Rohan\\anaconda3\\lib\\site-packages\\numpy\\.libs\\libopenblas64__v0.3.23-246-g3d31191b-gcc_10_3_0.dll\n",
      "  warnings.warn(\"loaded more than 1 DLL from .libs:\"\n"
     ]
    }
   ],
   "source": [
    "import pandas as pd\n",
    "import numpy as np\n",
    "import matplotlib.pyplot as plt\n",
    "import seaborn as sns"
   ]
  },
  {
   "cell_type": "code",
   "execution_count": 57,
   "id": "4c00f67e",
   "metadata": {},
   "outputs": [
    {
     "data": {
      "text/html": [
       "<div>\n",
       "<style scoped>\n",
       "    .dataframe tbody tr th:only-of-type {\n",
       "        vertical-align: middle;\n",
       "    }\n",
       "\n",
       "    .dataframe tbody tr th {\n",
       "        vertical-align: top;\n",
       "    }\n",
       "\n",
       "    .dataframe thead th {\n",
       "        text-align: right;\n",
       "    }\n",
       "</style>\n",
       "<table border=\"1\" class=\"dataframe\">\n",
       "  <thead>\n",
       "    <tr style=\"text-align: right;\">\n",
       "      <th></th>\n",
       "      <th>Timestamp</th>\n",
       "      <th>Choose your gender</th>\n",
       "      <th>Age</th>\n",
       "      <th>What is your course?</th>\n",
       "      <th>Your current year of Study</th>\n",
       "      <th>What is your CGPA?</th>\n",
       "      <th>Marital status</th>\n",
       "      <th>Do you have Depression?</th>\n",
       "      <th>Do you have Anxiety?</th>\n",
       "      <th>Do you have Panic attack?</th>\n",
       "      <th>Did you seek any specialist for a treatment?</th>\n",
       "    </tr>\n",
       "  </thead>\n",
       "  <tbody>\n",
       "    <tr>\n",
       "      <th>50</th>\n",
       "      <td>8/7/2020 15:27</td>\n",
       "      <td>Female</td>\n",
       "      <td>23.0</td>\n",
       "      <td>ALA</td>\n",
       "      <td>year 1</td>\n",
       "      <td>2.50 - 2.99</td>\n",
       "      <td>Yes</td>\n",
       "      <td>Yes</td>\n",
       "      <td>No</td>\n",
       "      <td>Yes</td>\n",
       "      <td>Yes</td>\n",
       "    </tr>\n",
       "    <tr>\n",
       "      <th>9</th>\n",
       "      <td>8/7/2020 12:39</td>\n",
       "      <td>Male</td>\n",
       "      <td>18.0</td>\n",
       "      <td>Irkhs</td>\n",
       "      <td>year 1</td>\n",
       "      <td>3.50 - 4.00</td>\n",
       "      <td>No</td>\n",
       "      <td>No</td>\n",
       "      <td>Yes</td>\n",
       "      <td>Yes</td>\n",
       "      <td>No</td>\n",
       "    </tr>\n",
       "    <tr>\n",
       "      <th>43</th>\n",
       "      <td>8/7/2020 15:07</td>\n",
       "      <td>Male</td>\n",
       "      <td>NaN</td>\n",
       "      <td>BIT</td>\n",
       "      <td>year 1</td>\n",
       "      <td>0 - 1.99</td>\n",
       "      <td>No</td>\n",
       "      <td>No</td>\n",
       "      <td>No</td>\n",
       "      <td>No</td>\n",
       "      <td>No</td>\n",
       "    </tr>\n",
       "    <tr>\n",
       "      <th>86</th>\n",
       "      <td>13/07/2020 10:34:08</td>\n",
       "      <td>Female</td>\n",
       "      <td>19.0</td>\n",
       "      <td>Fiqh fatwa</td>\n",
       "      <td>Year 3</td>\n",
       "      <td>3.00 - 3.49</td>\n",
       "      <td>No</td>\n",
       "      <td>No</td>\n",
       "      <td>No</td>\n",
       "      <td>No</td>\n",
       "      <td>No</td>\n",
       "    </tr>\n",
       "    <tr>\n",
       "      <th>93</th>\n",
       "      <td>13/07/2020 16:15:13</td>\n",
       "      <td>Female</td>\n",
       "      <td>18.0</td>\n",
       "      <td>BENL</td>\n",
       "      <td>year 1</td>\n",
       "      <td>3.00 - 3.49</td>\n",
       "      <td>No</td>\n",
       "      <td>Yes</td>\n",
       "      <td>No</td>\n",
       "      <td>No</td>\n",
       "      <td>No</td>\n",
       "    </tr>\n",
       "  </tbody>\n",
       "</table>\n",
       "</div>"
      ],
      "text/plain": [
       "              Timestamp Choose your gender   Age What is your course?  \\\n",
       "50       8/7/2020 15:27             Female  23.0                  ALA   \n",
       "9        8/7/2020 12:39               Male  18.0                Irkhs   \n",
       "43       8/7/2020 15:07               Male   NaN                  BIT   \n",
       "86  13/07/2020 10:34:08             Female  19.0          Fiqh fatwa    \n",
       "93  13/07/2020 16:15:13             Female  18.0                 BENL   \n",
       "\n",
       "   Your current year of Study What is your CGPA? Marital status  \\\n",
       "50                     year 1        2.50 - 2.99            Yes   \n",
       "9                      year 1        3.50 - 4.00             No   \n",
       "43                     year 1           0 - 1.99             No   \n",
       "86                     Year 3        3.00 - 3.49             No   \n",
       "93                     year 1        3.00 - 3.49             No   \n",
       "\n",
       "   Do you have Depression? Do you have Anxiety? Do you have Panic attack?  \\\n",
       "50                     Yes                   No                       Yes   \n",
       "9                       No                  Yes                       Yes   \n",
       "43                      No                   No                        No   \n",
       "86                      No                   No                        No   \n",
       "93                     Yes                   No                        No   \n",
       "\n",
       "   Did you seek any specialist for a treatment?  \n",
       "50                                          Yes  \n",
       "9                                            No  \n",
       "43                                           No  \n",
       "86                                           No  \n",
       "93                                           No  "
      ]
     },
     "execution_count": 57,
     "metadata": {},
     "output_type": "execute_result"
    }
   ],
   "source": [
    "df = pd.read_csv('Student Mental health.csv')\n",
    "df.sample(5)"
   ]
  },
  {
   "cell_type": "code",
   "execution_count": 59,
   "id": "8cbfd985",
   "metadata": {},
   "outputs": [
    {
     "data": {
      "text/plain": [
       "Index(['Timestamp', 'Choose your gender', 'Age', 'What is your course?',\n",
       "       'Your current year of Study', 'What is your CGPA?', 'Marital status',\n",
       "       'Do you have Depression?', 'Do you have Anxiety?',\n",
       "       'Do you have Panic attack?',\n",
       "       'Did you seek any specialist for a treatment?'],\n",
       "      dtype='object')"
      ]
     },
     "execution_count": 59,
     "metadata": {},
     "output_type": "execute_result"
    }
   ],
   "source": [
    "df.columns"
   ]
  },
  {
   "cell_type": "code",
   "execution_count": 3,
   "id": "6e683411",
   "metadata": {},
   "outputs": [
    {
     "data": {
      "text/plain": [
       "Index(['Timestamp', 'Choose your gender', 'Age', 'What is your course?',\n",
       "       'Your current year of Study', 'What is your CGPA?', 'Marital status',\n",
       "       'Do you have Depression?', 'Do you have Anxiety?',\n",
       "       'Do you have Panic attack?',\n",
       "       'Did you seek any specialist for a treatment?'],\n",
       "      dtype='object')"
      ]
     },
     "execution_count": 3,
     "metadata": {},
     "output_type": "execute_result"
    }
   ],
   "source": [
    "df.columns"
   ]
  },
  {
   "cell_type": "code",
   "execution_count": 4,
   "id": "3ae26557",
   "metadata": {},
   "outputs": [],
   "source": [
    "df = pd.read_csv('Student Mental health.csv', usecols=['Choose your gender','Age','Marital status','Do you have Depression?','Do you have Anxiety?','Do you have Panic attack?','Did you seek any specialist for a treatment?'])"
   ]
  },
  {
   "cell_type": "code",
   "execution_count": 5,
   "id": "90106e8a",
   "metadata": {},
   "outputs": [
    {
     "data": {
      "text/html": [
       "<div>\n",
       "<style scoped>\n",
       "    .dataframe tbody tr th:only-of-type {\n",
       "        vertical-align: middle;\n",
       "    }\n",
       "\n",
       "    .dataframe tbody tr th {\n",
       "        vertical-align: top;\n",
       "    }\n",
       "\n",
       "    .dataframe thead th {\n",
       "        text-align: right;\n",
       "    }\n",
       "</style>\n",
       "<table border=\"1\" class=\"dataframe\">\n",
       "  <thead>\n",
       "    <tr style=\"text-align: right;\">\n",
       "      <th></th>\n",
       "      <th>Choose your gender</th>\n",
       "      <th>Age</th>\n",
       "      <th>Marital status</th>\n",
       "      <th>Do you have Depression?</th>\n",
       "      <th>Do you have Anxiety?</th>\n",
       "      <th>Do you have Panic attack?</th>\n",
       "      <th>Did you seek any specialist for a treatment?</th>\n",
       "    </tr>\n",
       "  </thead>\n",
       "  <tbody>\n",
       "    <tr>\n",
       "      <th>0</th>\n",
       "      <td>Female</td>\n",
       "      <td>18.0</td>\n",
       "      <td>No</td>\n",
       "      <td>Yes</td>\n",
       "      <td>No</td>\n",
       "      <td>Yes</td>\n",
       "      <td>No</td>\n",
       "    </tr>\n",
       "    <tr>\n",
       "      <th>1</th>\n",
       "      <td>Male</td>\n",
       "      <td>21.0</td>\n",
       "      <td>No</td>\n",
       "      <td>No</td>\n",
       "      <td>Yes</td>\n",
       "      <td>No</td>\n",
       "      <td>No</td>\n",
       "    </tr>\n",
       "    <tr>\n",
       "      <th>2</th>\n",
       "      <td>Male</td>\n",
       "      <td>19.0</td>\n",
       "      <td>No</td>\n",
       "      <td>Yes</td>\n",
       "      <td>Yes</td>\n",
       "      <td>Yes</td>\n",
       "      <td>No</td>\n",
       "    </tr>\n",
       "    <tr>\n",
       "      <th>3</th>\n",
       "      <td>Female</td>\n",
       "      <td>22.0</td>\n",
       "      <td>Yes</td>\n",
       "      <td>Yes</td>\n",
       "      <td>No</td>\n",
       "      <td>No</td>\n",
       "      <td>No</td>\n",
       "    </tr>\n",
       "    <tr>\n",
       "      <th>4</th>\n",
       "      <td>Male</td>\n",
       "      <td>23.0</td>\n",
       "      <td>No</td>\n",
       "      <td>No</td>\n",
       "      <td>No</td>\n",
       "      <td>No</td>\n",
       "      <td>No</td>\n",
       "    </tr>\n",
       "  </tbody>\n",
       "</table>\n",
       "</div>"
      ],
      "text/plain": [
       "  Choose your gender   Age Marital status Do you have Depression?  \\\n",
       "0             Female  18.0             No                     Yes   \n",
       "1               Male  21.0             No                      No   \n",
       "2               Male  19.0             No                     Yes   \n",
       "3             Female  22.0            Yes                     Yes   \n",
       "4               Male  23.0             No                      No   \n",
       "\n",
       "  Do you have Anxiety? Do you have Panic attack?  \\\n",
       "0                   No                       Yes   \n",
       "1                  Yes                        No   \n",
       "2                  Yes                       Yes   \n",
       "3                   No                        No   \n",
       "4                   No                        No   \n",
       "\n",
       "  Did you seek any specialist for a treatment?  \n",
       "0                                           No  \n",
       "1                                           No  \n",
       "2                                           No  \n",
       "3                                           No  \n",
       "4                                           No  "
      ]
     },
     "execution_count": 5,
     "metadata": {},
     "output_type": "execute_result"
    }
   ],
   "source": [
    "df.head()"
   ]
  },
  {
   "cell_type": "code",
   "execution_count": 6,
   "id": "e84dabd4",
   "metadata": {},
   "outputs": [],
   "source": [
    "df.columns=['Gender','Age','Marital_Status','Do_you_have_Depression?','Do_you_have_Anxiety','Do_you_have_panic_Attack?','Need_treatment?']"
   ]
  },
  {
   "cell_type": "code",
   "execution_count": 7,
   "id": "90571180",
   "metadata": {},
   "outputs": [
    {
     "data": {
      "text/html": [
       "<div>\n",
       "<style scoped>\n",
       "    .dataframe tbody tr th:only-of-type {\n",
       "        vertical-align: middle;\n",
       "    }\n",
       "\n",
       "    .dataframe tbody tr th {\n",
       "        vertical-align: top;\n",
       "    }\n",
       "\n",
       "    .dataframe thead th {\n",
       "        text-align: right;\n",
       "    }\n",
       "</style>\n",
       "<table border=\"1\" class=\"dataframe\">\n",
       "  <thead>\n",
       "    <tr style=\"text-align: right;\">\n",
       "      <th></th>\n",
       "      <th>Gender</th>\n",
       "      <th>Age</th>\n",
       "      <th>Marital_Status</th>\n",
       "      <th>Do_you_have_Depression?</th>\n",
       "      <th>Do_you_have_Anxiety</th>\n",
       "      <th>Do_you_have_panic_Attack?</th>\n",
       "      <th>Need_treatment?</th>\n",
       "    </tr>\n",
       "  </thead>\n",
       "  <tbody>\n",
       "    <tr>\n",
       "      <th>0</th>\n",
       "      <td>Female</td>\n",
       "      <td>18.0</td>\n",
       "      <td>No</td>\n",
       "      <td>Yes</td>\n",
       "      <td>No</td>\n",
       "      <td>Yes</td>\n",
       "      <td>No</td>\n",
       "    </tr>\n",
       "    <tr>\n",
       "      <th>1</th>\n",
       "      <td>Male</td>\n",
       "      <td>21.0</td>\n",
       "      <td>No</td>\n",
       "      <td>No</td>\n",
       "      <td>Yes</td>\n",
       "      <td>No</td>\n",
       "      <td>No</td>\n",
       "    </tr>\n",
       "    <tr>\n",
       "      <th>2</th>\n",
       "      <td>Male</td>\n",
       "      <td>19.0</td>\n",
       "      <td>No</td>\n",
       "      <td>Yes</td>\n",
       "      <td>Yes</td>\n",
       "      <td>Yes</td>\n",
       "      <td>No</td>\n",
       "    </tr>\n",
       "    <tr>\n",
       "      <th>3</th>\n",
       "      <td>Female</td>\n",
       "      <td>22.0</td>\n",
       "      <td>Yes</td>\n",
       "      <td>Yes</td>\n",
       "      <td>No</td>\n",
       "      <td>No</td>\n",
       "      <td>No</td>\n",
       "    </tr>\n",
       "    <tr>\n",
       "      <th>4</th>\n",
       "      <td>Male</td>\n",
       "      <td>23.0</td>\n",
       "      <td>No</td>\n",
       "      <td>No</td>\n",
       "      <td>No</td>\n",
       "      <td>No</td>\n",
       "      <td>No</td>\n",
       "    </tr>\n",
       "  </tbody>\n",
       "</table>\n",
       "</div>"
      ],
      "text/plain": [
       "   Gender   Age Marital_Status Do_you_have_Depression? Do_you_have_Anxiety  \\\n",
       "0  Female  18.0             No                     Yes                  No   \n",
       "1    Male  21.0             No                      No                 Yes   \n",
       "2    Male  19.0             No                     Yes                 Yes   \n",
       "3  Female  22.0            Yes                     Yes                  No   \n",
       "4    Male  23.0             No                      No                  No   \n",
       "\n",
       "  Do_you_have_panic_Attack? Need_treatment?  \n",
       "0                       Yes              No  \n",
       "1                        No              No  \n",
       "2                       Yes              No  \n",
       "3                        No              No  \n",
       "4                        No              No  "
      ]
     },
     "execution_count": 7,
     "metadata": {},
     "output_type": "execute_result"
    }
   ],
   "source": [
    "df.head()"
   ]
  },
  {
   "cell_type": "code",
   "execution_count": 8,
   "id": "07fcb7bc",
   "metadata": {},
   "outputs": [
    {
     "name": "stdout",
     "output_type": "stream",
     "text": [
      "<class 'pandas.core.frame.DataFrame'>\n",
      "RangeIndex: 101 entries, 0 to 100\n",
      "Data columns (total 7 columns):\n",
      " #   Column                     Non-Null Count  Dtype  \n",
      "---  ------                     --------------  -----  \n",
      " 0   Gender                     101 non-null    object \n",
      " 1   Age                        100 non-null    float64\n",
      " 2   Marital_Status             101 non-null    object \n",
      " 3   Do_you_have_Depression?    101 non-null    object \n",
      " 4   Do_you_have_Anxiety        101 non-null    object \n",
      " 5   Do_you_have_panic_Attack?  101 non-null    object \n",
      " 6   Need_treatment?            101 non-null    object \n",
      "dtypes: float64(1), object(6)\n",
      "memory usage: 5.6+ KB\n"
     ]
    }
   ],
   "source": [
    "df.info()"
   ]
  },
  {
   "cell_type": "code",
   "execution_count": 9,
   "id": "b10c24b1",
   "metadata": {},
   "outputs": [
    {
     "data": {
      "text/plain": [
       "(101, 7)"
      ]
     },
     "execution_count": 9,
     "metadata": {},
     "output_type": "execute_result"
    }
   ],
   "source": [
    "df.shape"
   ]
  },
  {
   "cell_type": "code",
   "execution_count": 10,
   "id": "cb2162a5",
   "metadata": {},
   "outputs": [
    {
     "data": {
      "text/html": [
       "<div>\n",
       "<style scoped>\n",
       "    .dataframe tbody tr th:only-of-type {\n",
       "        vertical-align: middle;\n",
       "    }\n",
       "\n",
       "    .dataframe tbody tr th {\n",
       "        vertical-align: top;\n",
       "    }\n",
       "\n",
       "    .dataframe thead th {\n",
       "        text-align: right;\n",
       "    }\n",
       "</style>\n",
       "<table border=\"1\" class=\"dataframe\">\n",
       "  <thead>\n",
       "    <tr style=\"text-align: right;\">\n",
       "      <th></th>\n",
       "      <th>Age</th>\n",
       "    </tr>\n",
       "  </thead>\n",
       "  <tbody>\n",
       "    <tr>\n",
       "      <th>count</th>\n",
       "      <td>100.00000</td>\n",
       "    </tr>\n",
       "    <tr>\n",
       "      <th>mean</th>\n",
       "      <td>20.53000</td>\n",
       "    </tr>\n",
       "    <tr>\n",
       "      <th>std</th>\n",
       "      <td>2.49628</td>\n",
       "    </tr>\n",
       "    <tr>\n",
       "      <th>min</th>\n",
       "      <td>18.00000</td>\n",
       "    </tr>\n",
       "    <tr>\n",
       "      <th>25%</th>\n",
       "      <td>18.00000</td>\n",
       "    </tr>\n",
       "    <tr>\n",
       "      <th>50%</th>\n",
       "      <td>19.00000</td>\n",
       "    </tr>\n",
       "    <tr>\n",
       "      <th>75%</th>\n",
       "      <td>23.00000</td>\n",
       "    </tr>\n",
       "    <tr>\n",
       "      <th>max</th>\n",
       "      <td>24.00000</td>\n",
       "    </tr>\n",
       "  </tbody>\n",
       "</table>\n",
       "</div>"
      ],
      "text/plain": [
       "             Age\n",
       "count  100.00000\n",
       "mean    20.53000\n",
       "std      2.49628\n",
       "min     18.00000\n",
       "25%     18.00000\n",
       "50%     19.00000\n",
       "75%     23.00000\n",
       "max     24.00000"
      ]
     },
     "execution_count": 10,
     "metadata": {},
     "output_type": "execute_result"
    }
   ],
   "source": [
    "df.describe()"
   ]
  },
  {
   "cell_type": "code",
   "execution_count": 11,
   "id": "96bccae8",
   "metadata": {},
   "outputs": [
    {
     "data": {
      "text/plain": [
       "Gender                       0\n",
       "Age                          1\n",
       "Marital_Status               0\n",
       "Do_you_have_Depression?      0\n",
       "Do_you_have_Anxiety          0\n",
       "Do_you_have_panic_Attack?    0\n",
       "Need_treatment?              0\n",
       "dtype: int64"
      ]
     },
     "execution_count": 11,
     "metadata": {},
     "output_type": "execute_result"
    }
   ],
   "source": [
    "df.isnull().sum()"
   ]
  },
  {
   "cell_type": "markdown",
   "id": "13cbc229",
   "metadata": {},
   "source": [
    "# Remove the null values"
   ]
  },
  {
   "cell_type": "code",
   "execution_count": 12,
   "id": "a3dc70e3",
   "metadata": {},
   "outputs": [],
   "source": [
    "df = df.dropna(subset=['Age'])"
   ]
  },
  {
   "cell_type": "code",
   "execution_count": 13,
   "id": "6f99a8b1",
   "metadata": {},
   "outputs": [
    {
     "data": {
      "text/html": [
       "<div>\n",
       "<style scoped>\n",
       "    .dataframe tbody tr th:only-of-type {\n",
       "        vertical-align: middle;\n",
       "    }\n",
       "\n",
       "    .dataframe tbody tr th {\n",
       "        vertical-align: top;\n",
       "    }\n",
       "\n",
       "    .dataframe thead th {\n",
       "        text-align: right;\n",
       "    }\n",
       "</style>\n",
       "<table border=\"1\" class=\"dataframe\">\n",
       "  <thead>\n",
       "    <tr style=\"text-align: right;\">\n",
       "      <th></th>\n",
       "      <th>Gender</th>\n",
       "      <th>Age</th>\n",
       "      <th>Marital_Status</th>\n",
       "      <th>Do_you_have_Depression?</th>\n",
       "      <th>Do_you_have_Anxiety</th>\n",
       "      <th>Do_you_have_panic_Attack?</th>\n",
       "      <th>Need_treatment?</th>\n",
       "    </tr>\n",
       "  </thead>\n",
       "  <tbody>\n",
       "    <tr>\n",
       "      <th>0</th>\n",
       "      <td>Female</td>\n",
       "      <td>18.0</td>\n",
       "      <td>No</td>\n",
       "      <td>Yes</td>\n",
       "      <td>No</td>\n",
       "      <td>Yes</td>\n",
       "      <td>No</td>\n",
       "    </tr>\n",
       "    <tr>\n",
       "      <th>1</th>\n",
       "      <td>Male</td>\n",
       "      <td>21.0</td>\n",
       "      <td>No</td>\n",
       "      <td>No</td>\n",
       "      <td>Yes</td>\n",
       "      <td>No</td>\n",
       "      <td>No</td>\n",
       "    </tr>\n",
       "    <tr>\n",
       "      <th>2</th>\n",
       "      <td>Male</td>\n",
       "      <td>19.0</td>\n",
       "      <td>No</td>\n",
       "      <td>Yes</td>\n",
       "      <td>Yes</td>\n",
       "      <td>Yes</td>\n",
       "      <td>No</td>\n",
       "    </tr>\n",
       "    <tr>\n",
       "      <th>3</th>\n",
       "      <td>Female</td>\n",
       "      <td>22.0</td>\n",
       "      <td>Yes</td>\n",
       "      <td>Yes</td>\n",
       "      <td>No</td>\n",
       "      <td>No</td>\n",
       "      <td>No</td>\n",
       "    </tr>\n",
       "    <tr>\n",
       "      <th>4</th>\n",
       "      <td>Male</td>\n",
       "      <td>23.0</td>\n",
       "      <td>No</td>\n",
       "      <td>No</td>\n",
       "      <td>No</td>\n",
       "      <td>No</td>\n",
       "      <td>No</td>\n",
       "    </tr>\n",
       "    <tr>\n",
       "      <th>...</th>\n",
       "      <td>...</td>\n",
       "      <td>...</td>\n",
       "      <td>...</td>\n",
       "      <td>...</td>\n",
       "      <td>...</td>\n",
       "      <td>...</td>\n",
       "      <td>...</td>\n",
       "    </tr>\n",
       "    <tr>\n",
       "      <th>96</th>\n",
       "      <td>Female</td>\n",
       "      <td>21.0</td>\n",
       "      <td>No</td>\n",
       "      <td>No</td>\n",
       "      <td>Yes</td>\n",
       "      <td>No</td>\n",
       "      <td>No</td>\n",
       "    </tr>\n",
       "    <tr>\n",
       "      <th>97</th>\n",
       "      <td>Male</td>\n",
       "      <td>18.0</td>\n",
       "      <td>No</td>\n",
       "      <td>Yes</td>\n",
       "      <td>Yes</td>\n",
       "      <td>No</td>\n",
       "      <td>No</td>\n",
       "    </tr>\n",
       "    <tr>\n",
       "      <th>98</th>\n",
       "      <td>Female</td>\n",
       "      <td>19.0</td>\n",
       "      <td>Yes</td>\n",
       "      <td>Yes</td>\n",
       "      <td>No</td>\n",
       "      <td>Yes</td>\n",
       "      <td>No</td>\n",
       "    </tr>\n",
       "    <tr>\n",
       "      <th>99</th>\n",
       "      <td>Female</td>\n",
       "      <td>23.0</td>\n",
       "      <td>No</td>\n",
       "      <td>No</td>\n",
       "      <td>No</td>\n",
       "      <td>No</td>\n",
       "      <td>No</td>\n",
       "    </tr>\n",
       "    <tr>\n",
       "      <th>100</th>\n",
       "      <td>Male</td>\n",
       "      <td>20.0</td>\n",
       "      <td>No</td>\n",
       "      <td>No</td>\n",
       "      <td>No</td>\n",
       "      <td>No</td>\n",
       "      <td>No</td>\n",
       "    </tr>\n",
       "  </tbody>\n",
       "</table>\n",
       "<p>100 rows × 7 columns</p>\n",
       "</div>"
      ],
      "text/plain": [
       "     Gender   Age Marital_Status Do_you_have_Depression? Do_you_have_Anxiety  \\\n",
       "0    Female  18.0             No                     Yes                  No   \n",
       "1      Male  21.0             No                      No                 Yes   \n",
       "2      Male  19.0             No                     Yes                 Yes   \n",
       "3    Female  22.0            Yes                     Yes                  No   \n",
       "4      Male  23.0             No                      No                  No   \n",
       "..      ...   ...            ...                     ...                 ...   \n",
       "96   Female  21.0             No                      No                 Yes   \n",
       "97     Male  18.0             No                     Yes                 Yes   \n",
       "98   Female  19.0            Yes                     Yes                  No   \n",
       "99   Female  23.0             No                      No                  No   \n",
       "100    Male  20.0             No                      No                  No   \n",
       "\n",
       "    Do_you_have_panic_Attack? Need_treatment?  \n",
       "0                         Yes              No  \n",
       "1                          No              No  \n",
       "2                         Yes              No  \n",
       "3                          No              No  \n",
       "4                          No              No  \n",
       "..                        ...             ...  \n",
       "96                         No              No  \n",
       "97                         No              No  \n",
       "98                        Yes              No  \n",
       "99                         No              No  \n",
       "100                        No              No  \n",
       "\n",
       "[100 rows x 7 columns]"
      ]
     },
     "execution_count": 13,
     "metadata": {},
     "output_type": "execute_result"
    }
   ],
   "source": [
    "df"
   ]
  },
  {
   "cell_type": "code",
   "execution_count": 14,
   "id": "cf34c092",
   "metadata": {},
   "outputs": [
    {
     "data": {
      "text/plain": [
       "Gender                       0\n",
       "Age                          0\n",
       "Marital_Status               0\n",
       "Do_you_have_Depression?      0\n",
       "Do_you_have_Anxiety          0\n",
       "Do_you_have_panic_Attack?    0\n",
       "Need_treatment?              0\n",
       "dtype: int64"
      ]
     },
     "execution_count": 14,
     "metadata": {},
     "output_type": "execute_result"
    }
   ],
   "source": [
    "df.isnull().sum()"
   ]
  },
  {
   "cell_type": "code",
   "execution_count": 15,
   "id": "324e91eb",
   "metadata": {},
   "outputs": [
    {
     "data": {
      "text/html": [
       "<div>\n",
       "<style scoped>\n",
       "    .dataframe tbody tr th:only-of-type {\n",
       "        vertical-align: middle;\n",
       "    }\n",
       "\n",
       "    .dataframe tbody tr th {\n",
       "        vertical-align: top;\n",
       "    }\n",
       "\n",
       "    .dataframe thead th {\n",
       "        text-align: right;\n",
       "    }\n",
       "</style>\n",
       "<table border=\"1\" class=\"dataframe\">\n",
       "  <thead>\n",
       "    <tr style=\"text-align: right;\">\n",
       "      <th></th>\n",
       "      <th>Gender</th>\n",
       "      <th>Age</th>\n",
       "      <th>Marital_Status</th>\n",
       "      <th>Do_you_have_Depression?</th>\n",
       "      <th>Do_you_have_Anxiety</th>\n",
       "      <th>Do_you_have_panic_Attack?</th>\n",
       "      <th>Need_treatment?</th>\n",
       "    </tr>\n",
       "  </thead>\n",
       "  <tbody>\n",
       "    <tr>\n",
       "      <th>0</th>\n",
       "      <td>Female</td>\n",
       "      <td>18.0</td>\n",
       "      <td>No</td>\n",
       "      <td>Yes</td>\n",
       "      <td>No</td>\n",
       "      <td>Yes</td>\n",
       "      <td>No</td>\n",
       "    </tr>\n",
       "    <tr>\n",
       "      <th>1</th>\n",
       "      <td>Male</td>\n",
       "      <td>21.0</td>\n",
       "      <td>No</td>\n",
       "      <td>No</td>\n",
       "      <td>Yes</td>\n",
       "      <td>No</td>\n",
       "      <td>No</td>\n",
       "    </tr>\n",
       "    <tr>\n",
       "      <th>2</th>\n",
       "      <td>Male</td>\n",
       "      <td>19.0</td>\n",
       "      <td>No</td>\n",
       "      <td>Yes</td>\n",
       "      <td>Yes</td>\n",
       "      <td>Yes</td>\n",
       "      <td>No</td>\n",
       "    </tr>\n",
       "    <tr>\n",
       "      <th>3</th>\n",
       "      <td>Female</td>\n",
       "      <td>22.0</td>\n",
       "      <td>Yes</td>\n",
       "      <td>Yes</td>\n",
       "      <td>No</td>\n",
       "      <td>No</td>\n",
       "      <td>No</td>\n",
       "    </tr>\n",
       "    <tr>\n",
       "      <th>4</th>\n",
       "      <td>Male</td>\n",
       "      <td>23.0</td>\n",
       "      <td>No</td>\n",
       "      <td>No</td>\n",
       "      <td>No</td>\n",
       "      <td>No</td>\n",
       "      <td>No</td>\n",
       "    </tr>\n",
       "    <tr>\n",
       "      <th>...</th>\n",
       "      <td>...</td>\n",
       "      <td>...</td>\n",
       "      <td>...</td>\n",
       "      <td>...</td>\n",
       "      <td>...</td>\n",
       "      <td>...</td>\n",
       "      <td>...</td>\n",
       "    </tr>\n",
       "    <tr>\n",
       "      <th>96</th>\n",
       "      <td>Female</td>\n",
       "      <td>21.0</td>\n",
       "      <td>No</td>\n",
       "      <td>No</td>\n",
       "      <td>Yes</td>\n",
       "      <td>No</td>\n",
       "      <td>No</td>\n",
       "    </tr>\n",
       "    <tr>\n",
       "      <th>97</th>\n",
       "      <td>Male</td>\n",
       "      <td>18.0</td>\n",
       "      <td>No</td>\n",
       "      <td>Yes</td>\n",
       "      <td>Yes</td>\n",
       "      <td>No</td>\n",
       "      <td>No</td>\n",
       "    </tr>\n",
       "    <tr>\n",
       "      <th>98</th>\n",
       "      <td>Female</td>\n",
       "      <td>19.0</td>\n",
       "      <td>Yes</td>\n",
       "      <td>Yes</td>\n",
       "      <td>No</td>\n",
       "      <td>Yes</td>\n",
       "      <td>No</td>\n",
       "    </tr>\n",
       "    <tr>\n",
       "      <th>99</th>\n",
       "      <td>Female</td>\n",
       "      <td>23.0</td>\n",
       "      <td>No</td>\n",
       "      <td>No</td>\n",
       "      <td>No</td>\n",
       "      <td>No</td>\n",
       "      <td>No</td>\n",
       "    </tr>\n",
       "    <tr>\n",
       "      <th>100</th>\n",
       "      <td>Male</td>\n",
       "      <td>20.0</td>\n",
       "      <td>No</td>\n",
       "      <td>No</td>\n",
       "      <td>No</td>\n",
       "      <td>No</td>\n",
       "      <td>No</td>\n",
       "    </tr>\n",
       "  </tbody>\n",
       "</table>\n",
       "<p>100 rows × 7 columns</p>\n",
       "</div>"
      ],
      "text/plain": [
       "     Gender   Age Marital_Status Do_you_have_Depression? Do_you_have_Anxiety  \\\n",
       "0    Female  18.0             No                     Yes                  No   \n",
       "1      Male  21.0             No                      No                 Yes   \n",
       "2      Male  19.0             No                     Yes                 Yes   \n",
       "3    Female  22.0            Yes                     Yes                  No   \n",
       "4      Male  23.0             No                      No                  No   \n",
       "..      ...   ...            ...                     ...                 ...   \n",
       "96   Female  21.0             No                      No                 Yes   \n",
       "97     Male  18.0             No                     Yes                 Yes   \n",
       "98   Female  19.0            Yes                     Yes                  No   \n",
       "99   Female  23.0             No                      No                  No   \n",
       "100    Male  20.0             No                      No                  No   \n",
       "\n",
       "    Do_you_have_panic_Attack? Need_treatment?  \n",
       "0                         Yes              No  \n",
       "1                          No              No  \n",
       "2                         Yes              No  \n",
       "3                          No              No  \n",
       "4                          No              No  \n",
       "..                        ...             ...  \n",
       "96                         No              No  \n",
       "97                         No              No  \n",
       "98                        Yes              No  \n",
       "99                         No              No  \n",
       "100                        No              No  \n",
       "\n",
       "[100 rows x 7 columns]"
      ]
     },
     "execution_count": 15,
     "metadata": {},
     "output_type": "execute_result"
    }
   ],
   "source": [
    "df"
   ]
  },
  {
   "cell_type": "code",
   "execution_count": 16,
   "id": "0337e060",
   "metadata": {},
   "outputs": [
    {
     "data": {
      "image/png": "[encoded data removed]",
      "text/plain": [
       "<Figure size 640x480 with 1 Axes>"
      ]
     },
     "metadata": {},
     "output_type": "display_data"
    }
   ],
   "source": [
    "sns.barplot(x=df['Need_treatment?'], y=df['Age'],ci=None, hue=df['Gender'], orient='v')\n",
    "plt.legend(loc='best')\n",
    "plt.show()"
   ]
  },
  {
   "cell_type": "code",
   "execution_count": 17,
   "id": "d749b1f8",
   "metadata": {},
   "outputs": [
    {
     "data": {
      "image/png": "[encoded data removed]",
      "text/plain": [
       "<Figure size 640x480 with 1 Axes>"
      ]
     },
     "metadata": {},
     "output_type": "display_data"
    },
    {
     "data": {
      "text/plain": [
       "<Figure size 1000x600 with 0 Axes>"
      ]
     },
     "metadata": {},
     "output_type": "display_data"
    }
   ],
   "source": [
    "sns.barplot(x=df['Marital_Status'], y=df['Age'],ci=None,hue=df['Need_treatment?'])\n",
    "plt.figure(figsize=(10,6))\n",
    "plt.show()"
   ]
  },
  {
   "cell_type": "markdown",
   "id": "bd400978",
   "metadata": {},
   "source": [
    "# Apply label encoding on all the categorical columns"
   ]
  },
  {
   "cell_type": "code",
   "execution_count": 18,
   "id": "b0f36540",
   "metadata": {},
   "outputs": [],
   "source": [
    "from sklearn.preprocessing import LabelEncoder"
   ]
  },
  {
   "cell_type": "code",
   "execution_count": 19,
   "id": "ab63f90d",
   "metadata": {},
   "outputs": [],
   "source": [
    "le = LabelEncoder()"
   ]
  },
  {
   "cell_type": "code",
   "execution_count": 20,
   "id": "02ff5518",
   "metadata": {},
   "outputs": [],
   "source": [
    "df['Gender'] = le.fit_transform(df['Gender'])\n",
    "df['Marital_Status'] = le.fit_transform(df['Marital_Status'])\n",
    "\n",
    "df['Do_you_have_Depression?'] = le.fit_transform(df['Do_you_have_Depression?'])\n",
    "df['Do_you_have_Anxiety'] = le.fit_transform(df['Do_you_have_Anxiety'])\n",
    "\n",
    "df['Do_you_have_panic_Attack?'] = le.fit_transform(df['Do_you_have_panic_Attack?'])\n",
    "df['Need_treatment?'] = le.fit_transform(df['Need_treatment?'])"
   ]
  },
  {
   "cell_type": "code",
   "execution_count": 21,
   "id": "c57f3257",
   "metadata": {},
   "outputs": [
    {
     "data": {
      "text/html": [
       "<div>\n",
       "<style scoped>\n",
       "    .dataframe tbody tr th:only-of-type {\n",
       "        vertical-align: middle;\n",
       "    }\n",
       "\n",
       "    .dataframe tbody tr th {\n",
       "        vertical-align: top;\n",
       "    }\n",
       "\n",
       "    .dataframe thead th {\n",
       "        text-align: right;\n",
       "    }\n",
       "</style>\n",
       "<table border=\"1\" class=\"dataframe\">\n",
       "  <thead>\n",
       "    <tr style=\"text-align: right;\">\n",
       "      <th></th>\n",
       "      <th>Gender</th>\n",
       "      <th>Age</th>\n",
       "      <th>Marital_Status</th>\n",
       "      <th>Do_you_have_Depression?</th>\n",
       "      <th>Do_you_have_Anxiety</th>\n",
       "      <th>Do_you_have_panic_Attack?</th>\n",
       "      <th>Need_treatment?</th>\n",
       "    </tr>\n",
       "  </thead>\n",
       "  <tbody>\n",
       "    <tr>\n",
       "      <th>0</th>\n",
       "      <td>0</td>\n",
       "      <td>18.0</td>\n",
       "      <td>0</td>\n",
       "      <td>1</td>\n",
       "      <td>0</td>\n",
       "      <td>1</td>\n",
       "      <td>0</td>\n",
       "    </tr>\n",
       "    <tr>\n",
       "      <th>1</th>\n",
       "      <td>1</td>\n",
       "      <td>21.0</td>\n",
       "      <td>0</td>\n",
       "      <td>0</td>\n",
       "      <td>1</td>\n",
       "      <td>0</td>\n",
       "      <td>0</td>\n",
       "    </tr>\n",
       "    <tr>\n",
       "      <th>2</th>\n",
       "      <td>1</td>\n",
       "      <td>19.0</td>\n",
       "      <td>0</td>\n",
       "      <td>1</td>\n",
       "      <td>1</td>\n",
       "      <td>1</td>\n",
       "      <td>0</td>\n",
       "    </tr>\n",
       "    <tr>\n",
       "      <th>3</th>\n",
       "      <td>0</td>\n",
       "      <td>22.0</td>\n",
       "      <td>1</td>\n",
       "      <td>1</td>\n",
       "      <td>0</td>\n",
       "      <td>0</td>\n",
       "      <td>0</td>\n",
       "    </tr>\n",
       "    <tr>\n",
       "      <th>4</th>\n",
       "      <td>1</td>\n",
       "      <td>23.0</td>\n",
       "      <td>0</td>\n",
       "      <td>0</td>\n",
       "      <td>0</td>\n",
       "      <td>0</td>\n",
       "      <td>0</td>\n",
       "    </tr>\n",
       "  </tbody>\n",
       "</table>\n",
       "</div>"
      ],
      "text/plain": [
       "   Gender   Age  Marital_Status  Do_you_have_Depression?  Do_you_have_Anxiety  \\\n",
       "0       0  18.0               0                        1                    0   \n",
       "1       1  21.0               0                        0                    1   \n",
       "2       1  19.0               0                        1                    1   \n",
       "3       0  22.0               1                        1                    0   \n",
       "4       1  23.0               0                        0                    0   \n",
       "\n",
       "   Do_you_have_panic_Attack?  Need_treatment?  \n",
       "0                          1                0  \n",
       "1                          0                0  \n",
       "2                          1                0  \n",
       "3                          0                0  \n",
       "4                          0                0  "
      ]
     },
     "execution_count": 21,
     "metadata": {},
     "output_type": "execute_result"
    }
   ],
   "source": [
    "df.head()"
   ]
  },
  {
   "cell_type": "markdown",
   "id": "73b66719",
   "metadata": {},
   "source": [
    "# Encoded Results"
   ]
  },
  {
   "cell_type": "raw",
   "id": "f6a17498",
   "metadata": {},
   "source": [
    "Gender         : [Female: 0], [Male: 1]\n",
    "Marital_Status : [yes: 1], [No: 0]\n",
    "    \n",
    "Do_you_have_Depression? : [yes: 1], [No: 0]\n",
    "Do_you_have_Anxiety     : [yes: 1], [No: 0]\n",
    "    \n",
    "Do_you_have_panic_Attack?  : [yes: 1], [No: 0]\n",
    "Need_treatment?            : [yes: 1], [No: 0]    "
   ]
  },
  {
   "cell_type": "markdown",
   "id": "3878e324",
   "metadata": {},
   "source": [
    "# train test split"
   ]
  },
  {
   "cell_type": "code",
   "execution_count": 22,
   "id": "11e11c75",
   "metadata": {},
   "outputs": [],
   "source": [
    "from sklearn.model_selection import train_test_split"
   ]
  },
  {
   "cell_type": "code",
   "execution_count": 23,
   "id": "3b9a84ee",
   "metadata": {},
   "outputs": [],
   "source": [
    "X = df.drop(columns=['Need_treatment?'])\n",
    "y = df['Need_treatment?']"
   ]
  },
  {
   "cell_type": "code",
   "execution_count": 24,
   "id": "776f4a83",
   "metadata": {},
   "outputs": [],
   "source": [
    "X_train, X_test, y_train, y_test = train_test_split(X, y, test_size=0.3, random_state=42)"
   ]
  },
  {
   "cell_type": "code",
   "execution_count": 25,
   "id": "c4f6fd1f",
   "metadata": {},
   "outputs": [
    {
     "name": "stdout",
     "output_type": "stream",
     "text": [
      "    Gender   Age  Marital_Status  Do_you_have_Depression?  \\\n",
      "11       0  24.0               1                        1   \n",
      "48       1  24.0               0                        1   \n",
      "86       0  19.0               0                        0   \n",
      "28       0  24.0               1                        1   \n",
      "94       0  24.0               0                        0   \n",
      "..     ...   ...             ...                      ...   \n",
      "61       0  19.0               0                        0   \n",
      "72       0  19.0               1                        1   \n",
      "14       0  18.0               0                        0   \n",
      "93       0  18.0               0                        1   \n",
      "52       0  19.0               0                        0   \n",
      "\n",
      "    Do_you_have_Anxiety  Do_you_have_panic_Attack?  \n",
      "11                    0                          0  \n",
      "48                    0                          0  \n",
      "86                    0                          0  \n",
      "28                    1                          1  \n",
      "94                    0                          1  \n",
      "..                  ...                        ...  \n",
      "61                    0                          0  \n",
      "72                    0                          0  \n",
      "14                    1                          0  \n",
      "93                    0                          0  \n",
      "52                    0                          0  \n",
      "\n",
      "[70 rows x 6 columns]\n"
     ]
    },
    {
     "data": {
      "text/plain": [
       "(70, 6)"
      ]
     },
     "execution_count": 25,
     "metadata": {},
     "output_type": "execute_result"
    }
   ],
   "source": [
    "print(X_train)\n",
    "X_train.shape"
   ]
  },
  {
   "cell_type": "code",
   "execution_count": 26,
   "id": "69cc6094",
   "metadata": {},
   "outputs": [
    {
     "name": "stdout",
     "output_type": "stream",
     "text": [
      "11    0\n",
      "48    0\n",
      "86    0\n",
      "28    1\n",
      "94    0\n",
      "     ..\n",
      "61    0\n",
      "72    0\n",
      "14    0\n",
      "93    0\n",
      "52    0\n",
      "Name: Need_treatment?, Length: 70, dtype: int32\n"
     ]
    },
    {
     "data": {
      "text/plain": [
       "(70,)"
      ]
     },
     "execution_count": 26,
     "metadata": {},
     "output_type": "execute_result"
    }
   ],
   "source": [
    "print(y_train)\n",
    "y_train.shape"
   ]
  },
  {
   "cell_type": "code",
   "execution_count": 27,
   "id": "4a445226",
   "metadata": {},
   "outputs": [
    {
     "name": "stdout",
     "output_type": "stream",
     "text": [
      "    Gender   Age  Marital_Status  Do_you_have_Depression?  \\\n",
      "84       1  23.0               0                        0   \n",
      "54       0  19.0               0                        1   \n",
      "71       0  18.0               0                        0   \n",
      "46       0  19.0               0                        0   \n",
      "45       1  18.0               0                        0   \n",
      "39       0  24.0               1                        1   \n",
      "22       0  24.0               0                        0   \n",
      "81       0  24.0               0                        0   \n",
      "10       0  20.0               0                        0   \n",
      "0        0  18.0               0                        1   \n",
      "18       0  20.0               0                        0   \n",
      "30       0  23.0               0                        0   \n",
      "74       1  24.0               0                        0   \n",
      "33       1  18.0               1                        1   \n",
      "91       1  18.0               0                        0   \n",
      "4        1  23.0               0                        0   \n",
      "77       0  18.0               0                        0   \n",
      "78       0  19.0               0                        0   \n",
      "12       0  18.0               0                        1   \n",
      "31       1  18.0               0                        0   \n",
      "56       1  23.0               0                        0   \n",
      "89       1  24.0               0                        0   \n",
      "26       0  19.0               0                        0   \n",
      "42       0  20.0               0                        1   \n",
      "70       0  24.0               0                        0   \n",
      "15       1  24.0               0                        0   \n",
      "40       0  24.0               0                        0   \n",
      "97       1  18.0               0                        1   \n",
      "9        1  18.0               0                        0   \n",
      "73       1  18.0               0                        0   \n",
      "\n",
      "    Do_you_have_Anxiety  Do_you_have_panic_Attack?  \n",
      "84                    0                          0  \n",
      "54                    0                          1  \n",
      "71                    0                          1  \n",
      "46                    1                          0  \n",
      "45                    1                          1  \n",
      "39                    0                          1  \n",
      "22                    0                          0  \n",
      "81                    0                          0  \n",
      "10                    0                          0  \n",
      "0                     0                          1  \n",
      "18                    1                          0  \n",
      "30                    0                          0  \n",
      "74                    1                          0  \n",
      "33                    1                          0  \n",
      "91                    1                          0  \n",
      "4                     0                          0  \n",
      "77                    0                          1  \n",
      "78                    0                          0  \n",
      "12                    0                          0  \n",
      "31                    0                          0  \n",
      "56                    0                          0  \n",
      "89                    0                          1  \n",
      "26                    0                          0  \n",
      "42                    0                          0  \n",
      "70                    0                          0  \n",
      "15                    0                          0  \n",
      "40                    1                          0  \n",
      "97                    1                          0  \n",
      "9                     1                          1  \n",
      "73                    0                          0  \n"
     ]
    },
    {
     "data": {
      "text/plain": [
       "(30, 6)"
      ]
     },
     "execution_count": 27,
     "metadata": {},
     "output_type": "execute_result"
    }
   ],
   "source": [
    "print(X_test)\n",
    "X_test.shape"
   ]
  },
  {
   "cell_type": "code",
   "execution_count": 28,
   "id": "894b899f",
   "metadata": {},
   "outputs": [
    {
     "name": "stdout",
     "output_type": "stream",
     "text": [
      "84    0\n",
      "54    1\n",
      "71    0\n",
      "46    0\n",
      "45    0\n",
      "39    1\n",
      "22    0\n",
      "81    0\n",
      "10    0\n",
      "0     0\n",
      "18    0\n",
      "30    0\n",
      "74    0\n",
      "33    1\n",
      "91    0\n",
      "4     0\n",
      "77    0\n",
      "78    0\n",
      "12    0\n",
      "31    0\n",
      "56    0\n",
      "89    0\n",
      "26    0\n",
      "42    0\n",
      "70    0\n",
      "15    0\n",
      "40    0\n",
      "97    0\n",
      "9     0\n",
      "73    0\n",
      "Name: Need_treatment?, dtype: int32\n"
     ]
    },
    {
     "data": {
      "text/plain": [
       "(30,)"
      ]
     },
     "execution_count": 28,
     "metadata": {},
     "output_type": "execute_result"
    }
   ],
   "source": [
    "print(y_test)\n",
    "y_test.shape"
   ]
  },
  {
   "cell_type": "code",
   "execution_count": 29,
   "id": "fcfbb500",
   "metadata": {},
   "outputs": [],
   "source": [
    "from sklearn import set_config\n",
    "set_config(display='diagram')"
   ]
  },
  {
   "cell_type": "markdown",
   "id": "6bf659f3",
   "metadata": {},
   "source": [
    "# Apply gaussian naive bayes"
   ]
  },
  {
   "cell_type": "code",
   "execution_count": 30,
   "id": "754c2995",
   "metadata": {},
   "outputs": [],
   "source": [
    "from sklearn.naive_bayes import GaussianNB"
   ]
  },
  {
   "cell_type": "code",
   "execution_count": 31,
   "id": "4f09d2fa",
   "metadata": {},
   "outputs": [],
   "source": [
    "gnb = GaussianNB()"
   ]
  },
  {
   "cell_type": "code",
   "execution_count": 32,
   "id": "01584f08",
   "metadata": {},
   "outputs": [
    {
     "data": {
      "text/html": [
       "<style>#sk-ad92fa2d-29a3-4573-a3e3-1310007330b6 {color: black;background-color: white;}#sk-ad92fa2d-29a3-4573-a3e3-1310007330b6 pre{padding: 0;}#sk-ad92fa2d-29a3-4573-a3e3-1310007330b6 div.sk-toggleable {background-color: white;}#sk-ad92fa2d-29a3-4573-a3e3-1310007330b6 label.sk-toggleable__label {cursor: pointer;display: block;width: 100%;margin-bottom: 0;padding: 0.3em;box-sizing: border-box;text-align: center;}#sk-ad92fa2d-29a3-4573-a3e3-1310007330b6 label.sk-toggleable__label-arrow:before {content: \"▸\";float: left;margin-right: 0.25em;color: #696969;}#sk-ad92fa2d-29a3-4573-a3e3-1310007330b6 label.sk-toggleable__label-arrow:hover:before {color: black;}#sk-ad92fa2d-29a3-4573-a3e3-1310007330b6 div.sk-estimator:hover label.sk-toggleable__label-arrow:before {color: black;}#sk-ad92fa2d-29a3-4573-a3e3-1310007330b6 div.sk-toggleable__content {max-height: 0;max-width: 0;overflow: hidden;text-align: left;background-color: #f0f8ff;}#sk-ad92fa2d-29a3-4573-a3e3-1310007330b6 div.sk-toggleable__content pre {margin: 0.2em;color: black;border-radius: 0.25em;background-color: #f0f8ff;}#sk-ad92fa2d-29a3-4573-a3e3-1310007330b6 input.sk-toggleable__control:checked~div.sk-toggleable__content {max-height: 200px;max-width: 100%;overflow: auto;}#sk-ad92fa2d-29a3-4573-a3e3-1310007330b6 input.sk-toggleable__control:checked~label.sk-toggleable__label-arrow:before {content: \"▾\";}#sk-ad92fa2d-29a3-4573-a3e3-1310007330b6 div.sk-estimator input.sk-toggleable__control:checked~label.sk-toggleable__label {background-color: #d4ebff;}#sk-ad92fa2d-29a3-4573-a3e3-1310007330b6 div.sk-label input.sk-toggleable__control:checked~label.sk-toggleable__label {background-color: #d4ebff;}#sk-ad92fa2d-29a3-4573-a3e3-1310007330b6 input.sk-hidden--visually {border: 0;clip: rect(1px 1px 1px 1px);clip: rect(1px, 1px, 1px, 1px);height: 1px;margin: -1px;overflow: hidden;padding: 0;position: absolute;width: 1px;}#sk-ad92fa2d-29a3-4573-a3e3-1310007330b6 div.sk-estimator {font-family: monospace;background-color: #f0f8ff;border: 1px dotted black;border-radius: 0.25em;box-sizing: border-box;margin-bottom: 0.5em;}#sk-ad92fa2d-29a3-4573-a3e3-1310007330b6 div.sk-estimator:hover {background-color: #d4ebff;}#sk-ad92fa2d-29a3-4573-a3e3-1310007330b6 div.sk-parallel-item::after {content: \"\";width: 100%;border-bottom: 1px solid gray;flex-grow: 1;}#sk-ad92fa2d-29a3-4573-a3e3-1310007330b6 div.sk-label:hover label.sk-toggleable__label {background-color: #d4ebff;}#sk-ad92fa2d-29a3-4573-a3e3-1310007330b6 div.sk-serial::before {content: \"\";position: absolute;border-left: 1px solid gray;box-sizing: border-box;top: 2em;bottom: 0;left: 50%;}#sk-ad92fa2d-29a3-4573-a3e3-1310007330b6 div.sk-serial {display: flex;flex-direction: column;align-items: center;background-color: white;padding-right: 0.2em;padding-left: 0.2em;}#sk-ad92fa2d-29a3-4573-a3e3-1310007330b6 div.sk-item {z-index: 1;}#sk-ad92fa2d-29a3-4573-a3e3-1310007330b6 div.sk-parallel {display: flex;align-items: stretch;justify-content: center;background-color: white;}#sk-ad92fa2d-29a3-4573-a3e3-1310007330b6 div.sk-parallel::before {content: \"\";position: absolute;border-left: 1px solid gray;box-sizing: border-box;top: 2em;bottom: 0;left: 50%;}#sk-ad92fa2d-29a3-4573-a3e3-1310007330b6 div.sk-parallel-item {display: flex;flex-direction: column;position: relative;background-color: white;}#sk-ad92fa2d-29a3-4573-a3e3-1310007330b6 div.sk-parallel-item:first-child::after {align-self: flex-end;width: 50%;}#sk-ad92fa2d-29a3-4573-a3e3-1310007330b6 div.sk-parallel-item:last-child::after {align-self: flex-start;width: 50%;}#sk-ad92fa2d-29a3-4573-a3e3-1310007330b6 div.sk-parallel-item:only-child::after {width: 0;}#sk-ad92fa2d-29a3-4573-a3e3-1310007330b6 div.sk-dashed-wrapped {border: 1px dashed gray;margin: 0 0.4em 0.5em 0.4em;box-sizing: border-box;padding-bottom: 0.4em;background-color: white;position: relative;}#sk-ad92fa2d-29a3-4573-a3e3-1310007330b6 div.sk-label label {font-family: monospace;font-weight: bold;background-color: white;display: inline-block;line-height: 1.2em;}#sk-ad92fa2d-29a3-4573-a3e3-1310007330b6 div.sk-label-container {position: relative;z-index: 2;text-align: center;}#sk-ad92fa2d-29a3-4573-a3e3-1310007330b6 div.sk-container {/* jupyter's `normalize.less` sets `[hidden] { display: none; }` but bootstrap.min.css set `[hidden] { display: none !important; }` so we also need the `!important` here to be able to override the default hidden behavior on the sphinx rendered scikit-learn.org. See: https://github.com/scikit-learn/scikit-learn/issues/21755 */display: inline-block !important;position: relative;}#sk-ad92fa2d-29a3-4573-a3e3-1310007330b6 div.sk-text-repr-fallback {display: none;}</style><div id=\"sk-ad92fa2d-29a3-4573-a3e3-1310007330b6\" class=\"sk-top-container\"><div class=\"sk-text-repr-fallback\"><pre>GaussianNB()</pre><b>Please rerun this cell to show the HTML repr or trust the notebook.</b></div><div class=\"sk-container\" hidden><div class=\"sk-item\"><div class=\"sk-estimator sk-toggleable\"><input class=\"sk-toggleable__control sk-hidden--visually\" id=\"b73bbc75-82a6-4bea-9b46-a34f220c3ff6\" type=\"checkbox\" checked><label for=\"b73bbc75-82a6-4bea-9b46-a34f220c3ff6\" class=\"sk-toggleable__label sk-toggleable__label-arrow\">GaussianNB</label><div class=\"sk-toggleable__content\"><pre>GaussianNB()</pre></div></div></div></div></div>"
      ],
      "text/plain": [
       "GaussianNB()"
      ]
     },
     "execution_count": 32,
     "metadata": {},
     "output_type": "execute_result"
    }
   ],
   "source": [
    "gnb.fit(X_train, y_train)"
   ]
  },
  {
   "cell_type": "code",
   "execution_count": 33,
   "id": "57801866",
   "metadata": {},
   "outputs": [],
   "source": [
    "y_pred = gnb.predict(X_test)"
   ]
  },
  {
   "cell_type": "code",
   "execution_count": 34,
   "id": "6641b449",
   "metadata": {},
   "outputs": [
    {
     "data": {
      "text/plain": [
       "array([0, 1, 0, 0, 0, 1, 0, 0, 0, 1, 0, 0, 0, 0, 0, 0, 0, 0, 1, 0, 0, 0,\n",
       "       0, 1, 0, 0, 0, 0, 0, 0])"
      ]
     },
     "execution_count": 34,
     "metadata": {},
     "output_type": "execute_result"
    }
   ],
   "source": [
    "y_pred"
   ]
  },
  {
   "cell_type": "code",
   "execution_count": 35,
   "id": "a7afaddb",
   "metadata": {},
   "outputs": [
    {
     "data": {
      "text/plain": [
       "84    0\n",
       "54    1\n",
       "71    0\n",
       "46    0\n",
       "45    0\n",
       "39    1\n",
       "22    0\n",
       "81    0\n",
       "10    0\n",
       "0     0\n",
       "18    0\n",
       "30    0\n",
       "74    0\n",
       "33    1\n",
       "91    0\n",
       "4     0\n",
       "77    0\n",
       "78    0\n",
       "12    0\n",
       "31    0\n",
       "56    0\n",
       "89    0\n",
       "26    0\n",
       "42    0\n",
       "70    0\n",
       "15    0\n",
       "40    0\n",
       "97    0\n",
       "9     0\n",
       "73    0\n",
       "Name: Need_treatment?, dtype: int32"
      ]
     },
     "execution_count": 35,
     "metadata": {},
     "output_type": "execute_result"
    }
   ],
   "source": [
    "y_test"
   ]
  },
  {
   "cell_type": "markdown",
   "id": "a73c96e5",
   "metadata": {},
   "source": [
    "# check the accuracy"
   ]
  },
  {
   "cell_type": "code",
   "execution_count": 36,
   "id": "3726cf20",
   "metadata": {},
   "outputs": [],
   "source": [
    "from sklearn.metrics import accuracy_score"
   ]
  },
  {
   "cell_type": "code",
   "execution_count": 37,
   "id": "36f29724",
   "metadata": {},
   "outputs": [
    {
     "data": {
      "text/plain": [
       "86.66666666666667"
      ]
     },
     "execution_count": 37,
     "metadata": {},
     "output_type": "execute_result"
    }
   ],
   "source": [
    "accuracy_score(y_test, y_pred)*100"
   ]
  },
  {
   "cell_type": "code",
   "execution_count": 38,
   "id": "e4e5f7c7",
   "metadata": {},
   "outputs": [
    {
     "data": {
      "text/plain": [
       "87.0"
      ]
     },
     "execution_count": 38,
     "metadata": {},
     "output_type": "execute_result"
    }
   ],
   "source": [
    "np.round(accuracy_score(y_test, y_pred), 2)*100"
   ]
  },
  {
   "cell_type": "markdown",
   "id": "d542a987",
   "metadata": {},
   "source": [
    "# check accuracy via Confusion Matrix"
   ]
  },
  {
   "cell_type": "code",
   "execution_count": 39,
   "id": "696093e4",
   "metadata": {},
   "outputs": [],
   "source": [
    "from sklearn.metrics import confusion_matrix"
   ]
  },
  {
   "cell_type": "code",
   "execution_count": 40,
   "id": "241f7a82",
   "metadata": {},
   "outputs": [
    {
     "data": {
      "text/plain": [
       "array([[24,  3],\n",
       "       [ 1,  2]], dtype=int64)"
      ]
     },
     "execution_count": 40,
     "metadata": {},
     "output_type": "execute_result"
    }
   ],
   "source": [
    "confusion_matrix(y_test, y_pred)"
   ]
  },
  {
   "cell_type": "markdown",
   "id": "8874b71d",
   "metadata": {},
   "source": [
    "# Store this matrix"
   ]
  },
  {
   "cell_type": "code",
   "execution_count": 41,
   "id": "b162f755",
   "metadata": {},
   "outputs": [
    {
     "data": {
      "text/plain": [
       "array([[24,  3],\n",
       "       [ 1,  2]], dtype=int64)"
      ]
     },
     "execution_count": 41,
     "metadata": {},
     "output_type": "execute_result"
    }
   ],
   "source": [
    "table = confusion_matrix(y_test, y_pred, labels=[0,1])\n",
    "table"
   ]
  },
  {
   "cell_type": "markdown",
   "id": "d5babf5e",
   "metadata": {},
   "source": [
    "# display the matix"
   ]
  },
  {
   "cell_type": "code",
   "execution_count": 42,
   "id": "12e39dfc",
   "metadata": {},
   "outputs": [],
   "source": [
    "from sklearn.metrics import confusion_matrix, ConfusionMatrixDisplay"
   ]
  },
  {
   "cell_type": "code",
   "execution_count": 43,
   "id": "34c3d291",
   "metadata": {},
   "outputs": [],
   "source": [
    "display = ConfusionMatrixDisplay(confusion_matrix = table, display_labels=['0: Not Needed (Pos)', '1: Needed (Neg)'])"
   ]
  },
  {
   "cell_type": "code",
   "execution_count": 44,
   "id": "9d7466cb",
   "metadata": {},
   "outputs": [
    {
     "data": {
      "text/plain": [
       "<sklearn.metrics._plot.confusion_matrix.ConfusionMatrixDisplay at 0x1812d77c430>"
      ]
     },
     "execution_count": 44,
     "metadata": {},
     "output_type": "execute_result"
    },
    {
     "data": {
      "image/png": "[encoded data removed]",
      "text/plain": [
       "<Figure size 640x480 with 2 Axes>"
      ]
     },
     "metadata": {},
     "output_type": "display_data"
    }
   ],
   "source": [
    "display.plot()"
   ]
  },
  {
   "cell_type": "code",
   "execution_count": 45,
   "id": "d1db5fae",
   "metadata": {},
   "outputs": [],
   "source": [
    "tn, fp, fn, tp = confusion_matrix(y_test, y_pred).ravel()"
   ]
  },
  {
   "cell_type": "code",
   "execution_count": 46,
   "id": "0ab622bf",
   "metadata": {},
   "outputs": [
    {
     "name": "stdout",
     "output_type": "stream",
     "text": [
      "True Negative: 24\n",
      "False Positive: 3\n",
      "False Negative: 1\n",
      "True Positive: 2\n"
     ]
    }
   ],
   "source": [
    "print('True Negative:', tn)\n",
    "print('False Positive:', fp)\n",
    "print('False Negative:', fn)\n",
    "print('True Positive:', tp)"
   ]
  },
  {
   "cell_type": "markdown",
   "id": "c787380f",
   "metadata": {},
   "source": [
    "# Save the Model"
   ]
  },
  {
   "cell_type": "code",
   "execution_count": 47,
   "id": "e1d62085",
   "metadata": {},
   "outputs": [],
   "source": [
    "import joblib\n",
    "model = joblib.dump(gnb, 'Gaussian_Naive_Bayes_Classifier')"
   ]
  },
  {
   "cell_type": "code",
   "execution_count": 48,
   "id": "4d63d6f2",
   "metadata": {},
   "outputs": [
    {
     "data": {
      "text/plain": [
       "['Gaussian_Naive_Bayes_Classifier']"
      ]
     },
     "execution_count": 48,
     "metadata": {},
     "output_type": "execute_result"
    }
   ],
   "source": [
    "model"
   ]
  },
  {
   "cell_type": "markdown",
   "id": "e055b722",
   "metadata": {},
   "source": [
    "# Use the model for prediction"
   ]
  },
  {
   "cell_type": "code",
   "execution_count": 49,
   "id": "75fa6601",
   "metadata": {},
   "outputs": [],
   "source": [
    "final_model = joblib.load('Gaussian_Naive_Bayes_Classifier')"
   ]
  },
  {
   "cell_type": "code",
   "execution_count": 50,
   "id": "402293e2",
   "metadata": {},
   "outputs": [
    {
     "data": {
      "text/html": [
       "<style>#sk-bc351004-9972-4cef-b80a-02485d95a87c {color: black;background-color: white;}#sk-bc351004-9972-4cef-b80a-02485d95a87c pre{padding: 0;}#sk-bc351004-9972-4cef-b80a-02485d95a87c div.sk-toggleable {background-color: white;}#sk-bc351004-9972-4cef-b80a-02485d95a87c label.sk-toggleable__label {cursor: pointer;display: block;width: 100%;margin-bottom: 0;padding: 0.3em;box-sizing: border-box;text-align: center;}#sk-bc351004-9972-4cef-b80a-02485d95a87c label.sk-toggleable__label-arrow:before {content: \"▸\";float: left;margin-right: 0.25em;color: #696969;}#sk-bc351004-9972-4cef-b80a-02485d95a87c label.sk-toggleable__label-arrow:hover:before {color: black;}#sk-bc351004-9972-4cef-b80a-02485d95a87c div.sk-estimator:hover label.sk-toggleable__label-arrow:before {color: black;}#sk-bc351004-9972-4cef-b80a-02485d95a87c div.sk-toggleable__content {max-height: 0;max-width: 0;overflow: hidden;text-align: left;background-color: #f0f8ff;}#sk-bc351004-9972-4cef-b80a-02485d95a87c div.sk-toggleable__content pre {margin: 0.2em;color: black;border-radius: 0.25em;background-color: #f0f8ff;}#sk-bc351004-9972-4cef-b80a-02485d95a87c input.sk-toggleable__control:checked~div.sk-toggleable__content {max-height: 200px;max-width: 100%;overflow: auto;}#sk-bc351004-9972-4cef-b80a-02485d95a87c input.sk-toggleable__control:checked~label.sk-toggleable__label-arrow:before {content: \"▾\";}#sk-bc351004-9972-4cef-b80a-02485d95a87c div.sk-estimator input.sk-toggleable__control:checked~label.sk-toggleable__label {background-color: #d4ebff;}#sk-bc351004-9972-4cef-b80a-02485d95a87c div.sk-label input.sk-toggleable__control:checked~label.sk-toggleable__label {background-color: #d4ebff;}#sk-bc351004-9972-4cef-b80a-02485d95a87c input.sk-hidden--visually {border: 0;clip: rect(1px 1px 1px 1px);clip: rect(1px, 1px, 1px, 1px);height: 1px;margin: -1px;overflow: hidden;padding: 0;position: absolute;width: 1px;}#sk-bc351004-9972-4cef-b80a-02485d95a87c div.sk-estimator {font-family: monospace;background-color: #f0f8ff;border: 1px dotted black;border-radius: 0.25em;box-sizing: border-box;margin-bottom: 0.5em;}#sk-bc351004-9972-4cef-b80a-02485d95a87c div.sk-estimator:hover {background-color: #d4ebff;}#sk-bc351004-9972-4cef-b80a-02485d95a87c div.sk-parallel-item::after {content: \"\";width: 100%;border-bottom: 1px solid gray;flex-grow: 1;}#sk-bc351004-9972-4cef-b80a-02485d95a87c div.sk-label:hover label.sk-toggleable__label {background-color: #d4ebff;}#sk-bc351004-9972-4cef-b80a-02485d95a87c div.sk-serial::before {content: \"\";position: absolute;border-left: 1px solid gray;box-sizing: border-box;top: 2em;bottom: 0;left: 50%;}#sk-bc351004-9972-4cef-b80a-02485d95a87c div.sk-serial {display: flex;flex-direction: column;align-items: center;background-color: white;padding-right: 0.2em;padding-left: 0.2em;}#sk-bc351004-9972-4cef-b80a-02485d95a87c div.sk-item {z-index: 1;}#sk-bc351004-9972-4cef-b80a-02485d95a87c div.sk-parallel {display: flex;align-items: stretch;justify-content: center;background-color: white;}#sk-bc351004-9972-4cef-b80a-02485d95a87c div.sk-parallel::before {content: \"\";position: absolute;border-left: 1px solid gray;box-sizing: border-box;top: 2em;bottom: 0;left: 50%;}#sk-bc351004-9972-4cef-b80a-02485d95a87c div.sk-parallel-item {display: flex;flex-direction: column;position: relative;background-color: white;}#sk-bc351004-9972-4cef-b80a-02485d95a87c div.sk-parallel-item:first-child::after {align-self: flex-end;width: 50%;}#sk-bc351004-9972-4cef-b80a-02485d95a87c div.sk-parallel-item:last-child::after {align-self: flex-start;width: 50%;}#sk-bc351004-9972-4cef-b80a-02485d95a87c div.sk-parallel-item:only-child::after {width: 0;}#sk-bc351004-9972-4cef-b80a-02485d95a87c div.sk-dashed-wrapped {border: 1px dashed gray;margin: 0 0.4em 0.5em 0.4em;box-sizing: border-box;padding-bottom: 0.4em;background-color: white;position: relative;}#sk-bc351004-9972-4cef-b80a-02485d95a87c div.sk-label label {font-family: monospace;font-weight: bold;background-color: white;display: inline-block;line-height: 1.2em;}#sk-bc351004-9972-4cef-b80a-02485d95a87c div.sk-label-container {position: relative;z-index: 2;text-align: center;}#sk-bc351004-9972-4cef-b80a-02485d95a87c div.sk-container {/* jupyter's `normalize.less` sets `[hidden] { display: none; }` but bootstrap.min.css set `[hidden] { display: none !important; }` so we also need the `!important` here to be able to override the default hidden behavior on the sphinx rendered scikit-learn.org. See: https://github.com/scikit-learn/scikit-learn/issues/21755 */display: inline-block !important;position: relative;}#sk-bc351004-9972-4cef-b80a-02485d95a87c div.sk-text-repr-fallback {display: none;}</style><div id=\"sk-bc351004-9972-4cef-b80a-02485d95a87c\" class=\"sk-top-container\"><div class=\"sk-text-repr-fallback\"><pre>GaussianNB()</pre><b>Please rerun this cell to show the HTML repr or trust the notebook.</b></div><div class=\"sk-container\" hidden><div class=\"sk-item\"><div class=\"sk-estimator sk-toggleable\"><input class=\"sk-toggleable__control sk-hidden--visually\" id=\"c903dd8a-0fcb-47f6-aa56-30464e47483e\" type=\"checkbox\" checked><label for=\"c903dd8a-0fcb-47f6-aa56-30464e47483e\" class=\"sk-toggleable__label sk-toggleable__label-arrow\">GaussianNB</label><div class=\"sk-toggleable__content\"><pre>GaussianNB()</pre></div></div></div></div></div>"
      ],
      "text/plain": [
       "GaussianNB()"
      ]
     },
     "execution_count": 50,
     "metadata": {},
     "output_type": "execute_result"
    }
   ],
   "source": [
    "final_model"
   ]
  },
  {
   "cell_type": "code",
   "execution_count": 51,
   "id": "a55f10dc",
   "metadata": {},
   "outputs": [
    {
     "data": {
      "text/plain": [
       "array([0, 1, 0, 0, 0, 1, 0, 0, 0, 1, 0, 0, 0, 0, 0, 0, 0, 0, 1, 0, 0, 0,\n",
       "       0, 1, 0, 0, 0, 0, 0, 0])"
      ]
     },
     "execution_count": 51,
     "metadata": {},
     "output_type": "execute_result"
    }
   ],
   "source": [
    "final_model.predict(X_test)"
   ]
  },
  {
   "cell_type": "code",
   "execution_count": 52,
   "id": "736f16a2",
   "metadata": {},
   "outputs": [
    {
     "data": {
      "text/html": [
       "<div>\n",
       "<style scoped>\n",
       "    .dataframe tbody tr th:only-of-type {\n",
       "        vertical-align: middle;\n",
       "    }\n",
       "\n",
       "    .dataframe tbody tr th {\n",
       "        vertical-align: top;\n",
       "    }\n",
       "\n",
       "    .dataframe thead th {\n",
       "        text-align: right;\n",
       "    }\n",
       "</style>\n",
       "<table border=\"1\" class=\"dataframe\">\n",
       "  <thead>\n",
       "    <tr style=\"text-align: right;\">\n",
       "      <th></th>\n",
       "      <th>Gender</th>\n",
       "      <th>Age</th>\n",
       "      <th>Marital_Status</th>\n",
       "      <th>Do_you_have_Depression?</th>\n",
       "      <th>Do_you_have_Anxiety</th>\n",
       "      <th>Do_you_have_panic_Attack?</th>\n",
       "      <th>Need_treatment?</th>\n",
       "    </tr>\n",
       "  </thead>\n",
       "  <tbody>\n",
       "    <tr>\n",
       "      <th>0</th>\n",
       "      <td>0</td>\n",
       "      <td>18.0</td>\n",
       "      <td>0</td>\n",
       "      <td>1</td>\n",
       "      <td>0</td>\n",
       "      <td>1</td>\n",
       "      <td>0</td>\n",
       "    </tr>\n",
       "    <tr>\n",
       "      <th>1</th>\n",
       "      <td>1</td>\n",
       "      <td>21.0</td>\n",
       "      <td>0</td>\n",
       "      <td>0</td>\n",
       "      <td>1</td>\n",
       "      <td>0</td>\n",
       "      <td>0</td>\n",
       "    </tr>\n",
       "  </tbody>\n",
       "</table>\n",
       "</div>"
      ],
      "text/plain": [
       "   Gender   Age  Marital_Status  Do_you_have_Depression?  Do_you_have_Anxiety  \\\n",
       "0       0  18.0               0                        1                    0   \n",
       "1       1  21.0               0                        0                    1   \n",
       "\n",
       "   Do_you_have_panic_Attack?  Need_treatment?  \n",
       "0                          1                0  \n",
       "1                          0                0  "
      ]
     },
     "execution_count": 52,
     "metadata": {},
     "output_type": "execute_result"
    }
   ],
   "source": [
    "df.head(2)"
   ]
  },
  {
   "cell_type": "code",
   "execution_count": 55,
   "id": "9f9dca2d",
   "metadata": {},
   "outputs": [],
   "source": [
    "def pred():\n",
    "    Gender = int(input('Enter the Gender of a person:\\n'))\n",
    "    Age = int(input('Enter the age of the person:\\n'))\n",
    "    \n",
    "    Marital_Status = int(input('Enter the Marital_Status of a person:\\n'))\n",
    "    Do_you_have_Depression = int(input('Enter weather person having Depression?:\\n'))\n",
    "    \n",
    "    Do_you_have_Anxiety = int(input('Enter weather person is suffering from Anxiety?:\\n'))\n",
    "    Do_you_have_panic_Attack = int(input('Enter weather person is having panick attack?:\\n'))\n",
    "    \n",
    "    input_data = np.array([[Gender, Age, Marital_Status, Do_you_have_Depression, Do_you_have_Anxiety, Do_you_have_panic_Attack]])\n",
    "    prediction = gnb.predict(input_data)\n",
    "    \n",
    "    return prediction    "
   ]
  },
  {
   "cell_type": "code",
   "execution_count": 54,
   "id": "82a1b4f3",
   "metadata": {},
   "outputs": [
    {
     "name": "stdout",
     "output_type": "stream",
     "text": [
      "Enter the Gender of a person:\n",
      "0\n",
      "Enter the age of the person:\n",
      "23\n",
      "Enter the Marital_Status of a person:\n",
      "1\n",
      "Enter weather person having Depression?:\n",
      "1\n",
      "Enter weather person is suffering from Anxiety?:\n",
      "1\n",
      "Enter weather person is having panick attack?:\n",
      "1\n"
     ]
    },
    {
     "name": "stderr",
     "output_type": "stream",
     "text": [
      "C:\\Users\\Rohan\\anaconda3\\lib\\site-packages\\sklearn\\base.py:450: UserWarning: X does not have valid feature names, but GaussianNB was fitted with feature names\n",
      "  warnings.warn(\n"
     ]
    },
    {
     "data": {
      "text/plain": [
       "array([1])"
      ]
     },
     "execution_count": 54,
     "metadata": {},
     "output_type": "execute_result"
    }
   ],
   "source": [
    "pred()"
   ]
  },
  {
   "cell_type": "code",
   "execution_count": 56,
   "id": "034aca8c",
   "metadata": {},
   "outputs": [
    {
     "name": "stdout",
     "output_type": "stream",
     "text": [
      "Enter the Gender of a person:\n",
      "1\n",
      "Enter the age of the person:\n",
      "1\n",
      "Enter the Marital_Status of a person:\n",
      "0\n",
      "Enter weather person having Depression?:\n",
      "1\n",
      "Enter weather person is suffering from Anxiety?:\n",
      "0\n",
      "Enter weather person is having panick attack?:\n",
      "0\n"
     ]
    },
    {
     "name": "stderr",
     "output_type": "stream",
     "text": [
      "C:\\Users\\Rohan\\anaconda3\\lib\\site-packages\\sklearn\\base.py:450: UserWarning: X does not have valid feature names, but GaussianNB was fitted with feature names\n",
      "  warnings.warn(\n"
     ]
    },
    {
     "data": {
      "text/plain": [
       "array([0])"
      ]
     },
     "execution_count": 56,
     "metadata": {},
     "output_type": "execute_result"
    }
   ],
   "source": [
    "pred()"
   ]
  },
  {
   "cell_type": "code",
   "execution_count": null,
   "id": "39d35ae7",
   "metadata": {},
   "outputs": [],
   "source": []
  }
 ],
 "metadata": {
  "kernelspec": {
   "display_name": "Python 3 (ipykernel)",
   "language": "python",
   "name": "python3"
  },
  "language_info": {
   "codemirror_mode": {
    "name": "ipython",
    "version": 3
   },
   "file_extension": ".py",
   "mimetype": "text/x-python",
   "name": "python",
   "nbconvert_exporter": "python",
   "pygments_lexer": "ipython3",
   "version": "3.9.13"
  }
 },
 "nbformat": 4,
 "nbformat_minor": 5
}
